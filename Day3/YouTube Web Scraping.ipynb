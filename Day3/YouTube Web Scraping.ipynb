{
 "cells": [
  {
   "cell_type": "markdown",
   "id": "448c32c9-f31c-4592-a606-090027ef1566",
   "metadata": {},
   "source": [
    "### Overview"
   ]
  },
  {
   "cell_type": "markdown",
   "id": "e8a5f525-4c0e-49b9-ad67-638ec81df49b",
   "metadata": {},
   "source": [
    "This project focuses on scraping video details from a YouTube channel using Selenium and BeautifulSoup, and organizing the data into a structured pandas DataFrame. By automating browser interactions, we dynamically extract titles, views, video links, upload dates, and thumbnail URLs, handling missing or dynamic content gracefully."
   ]
  },
  {
   "cell_type": "markdown",
   "id": "ea317fa5-d222-43eb-acf8-23a984461292",
   "metadata": {},
   "source": [
    "We will start by importing the necessary libraries to build our web scraping workflow. ***chromedriver_binary*** sets up ***ChromeDriver*** for seamless browser automation with ***Selenium***, while ***BeautifulSoup*** helps parse and extract meaningful data from HTML content. Finally, ***pandas*** is used to structure and manage the scraped data in a tabular format, making it easy to analyze or export. These libraries form the core of an efficient and streamlined web scraping process."
   ]
  },
  {
   "cell_type": "code",
   "execution_count": null,
   "id": "349859f5-9fb8-4a0a-834d-fa5bcaed2e95",
   "metadata": {},
   "outputs": [],
   "source": [
    "import chromedriver_binary \n",
    "from bs4 import BeautifulSoup\n",
    "import pandas as pd"
   ]
  },
  {
   "cell_type": "markdown",
   "id": "5ed1406f-e7e5-4485-95d9-4cc49c56bd0e",
   "metadata": {},
   "source": [
    "Next, we will configure ***selenium*** for automating browser for web scraping, While the ***webdriver*** and related classes from ***Selenium*** do the actual work of controlling the browser, ***Service*** defines to which path the ChromeDriver executable will be installed. Here, we employ the ***webdriver_manager*** to manage our ***ChromeDriver*** version and ***WebDriverWait*** with the help of ***expected_conditions*** to deal with dynamic web content later. It initializes the ***WebDriver*** using the ***chrome_driver_path*** and does a test by visiting the ***Videos*** section of the ***GeeksforGeeks YouTube channel*** and confirming with the title of the website. This makes it easy to navigate and interact with dynamic contents on YouTube."
   ]
  },
  {
   "cell_type": "code",
   "execution_count": 49,
   "id": "a76ae12c-e7f9-4578-8e91-f57e81d6142e",
   "metadata": {},
   "outputs": [
    {
     "name": "stdout",
     "output_type": "stream",
     "text": [
      "GeeksforGeeks - YouTube\n"
     ]
    }
   ],
   "source": [
    "from selenium import webdriver\n",
    "from selenium.webdriver.chrome.service import Service\n",
    "from selenium.webdriver.common.by import By\n",
    "from selenium.webdriver.support.ui import WebDriverWait\n",
    "from selenium.webdriver.support import expected_conditions as EC\n",
    "from webdriver_manager.chrome import ChromeDriverManager\n",
    "\n",
    "# Correct path to ChromeDriver executable\n",
    "chrome_driver_path = #Your ChromeDriver Path\n",
    "service = Service(chrome_driver_path)\n",
    "\n",
    "# Initialize the WebDriver\n",
    "driver = webdriver.Chrome(service=service)\n",
    "\n",
    "# Test the setup\n",
    "driver.get(\"https://www.youtube.com/@GeeksforGeeksVideos/videos\")\n",
    "print(driver.title)"
   ]
  },
  {
   "cell_type": "markdown",
   "id": "ad2ded62-e796-4555-a783-d1b96525792a",
   "metadata": {},
   "source": [
    "The ***driver.page_source*** command returns the ***HTML*** source code of the current page displayed in the browser controlled by ***Selenium***. This is especially useful for web scraping, because as it will print the entire structure of the ***DOM*** at the moment the command is called, so long as it can get the dynamic content rendered in a Javascript application.\n",
    "\n",
    "In your context, ***driver.page_source*** will return the ***HTML*** of the ***YouTube page*** at the ***Videos*** section of the GeeksforGeeks channel. The ***HTML*** can then be fed into a parsing library like ***BeautifulSoup*** to extract specific pieces of data like ***video titles***, ***views***, or upload ***dates***. This is an important step towards going from browser automation to actually scraping the data."
   ]
  },
  {
   "cell_type": "code",
   "execution_count": null,
   "id": "12f6bb45-8f81-4999-9adb-1abb0d5a199a",
   "metadata": {},
   "outputs": [],
   "source": [
    "driver.page_source"
   ]
  },
  {
   "cell_type": "markdown",
   "id": "05a2a9cd-70d0-47d8-8de6-a6c83817e0ce",
   "metadata": {},
   "source": [
    "The command ***soup = BeautifulSoup(driver.page_source, \"html.parser\")*** extracts the **HTML*** source received by ***Selenium*** through ***driver.page_source***. Here’s what it does:\n",
    "\n",
    "1. **HTML Parsing:** The raw HTML from the browser is parsed using the BeautifulSoup library, which converts it into a more structured form that is easier to access and search through.\n",
    "\n",
    "2. **Parser Specification:** The “html.parser\" argument uses the built-in Python HTML parser. It is fast, does not require extra dependencies, but can use lxml or html5lib in more complicated possibilities.\n",
    "\n",
    "3. **Purpose:** This process turns the HTML string into a BeautifulSoup object, saved in soup. This object lets you search for specific tags or attributes or text content efficiently with methods such as. find() or. find_all().\n",
    "\n",
    "Here, soup will contain the structured HTML of the GeeksforGeeks YouTube \"Videos\" page which we will scrape for important elements such as video titles, links, views, or dates."
   ]
  },
  {
   "cell_type": "code",
   "execution_count": 118,
   "id": "12532006-9233-4dc9-8130-8d82d678d2d2",
   "metadata": {},
   "outputs": [],
   "source": [
    "soup = BeautifulSoup(driver.page_source, \"html.parser\")"
   ]
  },
  {
   "cell_type": "markdown",
   "id": "5c5aa06a-a23f-46fa-ac34-2a163bd20721",
   "metadata": {},
   "source": [
    "The below code snippet efficiently scrapes video details from a YouTube page using BeautifulSoup and organizes them into a list for further processing. Here's a concise breakdown of its functionality:\n",
    "\n",
    "1. **Initialize Data Storage:** The ***data*** list is created to store scraped information for each video as a list of details.\n",
    "\n",
    "2. **Iterate Through Video Items:** The ***for sp in soup.find_all('ytd-rich-item-renderer')*** loop iterates over all video elements identified by the ***ytd-rich-item-renderer*** tag.\n",
    "\n",
    "3. **Extract Video Details:**\n",
    "a)- ***Title:*** Retrieved using the ***a*** tag with a specific class, extracting its text content.\n",
    "\n",
    "b)- ***Video Link:*** Extracted from the href attribute of the same ***a*** tag.\n",
    "\n",
    "c)- ***Views:*** Safely retrieved from the first ***span*** tag in the metadata block; defaults to ***None*** if unavailable.\n",
    "\n",
    "d)- ***Date/Time:*** Retrieved similarly from the second ***span*** tag in the metadata block, handling missing data gracefully.\n",
    "\n",
    "e)- ***Thumbnail Link:*** Extracted from the ***src*** attribute of the ***img*** tag, stripping any query parameters; defaults to ***None*** if the image is missing.\n",
    "\n",
    "5. ***Append Data:*** Each video's details are appended as a list to the ***data*** list, maintaining a structured format."
   ]
  },
  {
   "cell_type": "code",
   "execution_count": 52,
   "id": "9ff4ef67-7765-4f37-b72f-50690462e263",
   "metadata": {},
   "outputs": [],
   "source": [
    "data = []\n",
    "\n",
    "for sp in soup.find_all('ytd-rich-item-renderer'):\n",
    "    \n",
    "    # Extract the title\n",
    "    title = sp.find('a', class_='yt-simple-endpoint focus-on-expand style-scope ytd-rich-grid-media').text\n",
    "    video_link = sp.find('a', class_ = 'yt-simple-endpoint focus-on-expand style-scope ytd-rich-grid-media').get('href')\n",
    "    try:\n",
    "        views = sp.find_all('span', class_ = 'inline-metadata-item style-scope ytd-video-meta-block')[0].text\n",
    "    except:\n",
    "        views = None\n",
    "    try:\n",
    "        date_time = sp.find_all('span', class_ = \"inline-metadata-item style-scope ytd-video-meta-block\")[1].text\n",
    "    except:\n",
    "        date_time = None\n",
    "    try:\n",
    "        thumbnail_link = sp.find('img').get('src').split('?')[0]\n",
    "    except:\n",
    "        thumbnail_link = None\n",
    "\n",
    "    data.append([title, views, video_link, date_time, thumbnail_link])"
   ]
  },
  {
   "cell_type": "markdown",
   "id": "c3a380bc-ec91-4de2-9b17-6349a7869c40",
   "metadata": {},
   "source": [
    "***len(data)*** returns the total number of videos scraped and stored in the data list, helping verify the scraper's success. "
   ]
  },
  {
   "cell_type": "code",
   "execution_count": 53,
   "id": "057a47c2-76ef-4fb4-82aa-d053737bb99a",
   "metadata": {},
   "outputs": [
    {
     "data": {
      "text/plain": [
       "1048"
      ]
     },
     "execution_count": 53,
     "metadata": {},
     "output_type": "execute_result"
    }
   ],
   "source": [
    "len(data)"
   ]
  },
  {
   "cell_type": "markdown",
   "id": "64646601-4fe2-4364-9ebd-c2a2796108e2",
   "metadata": {},
   "source": [
    "***data[0]*** retrieves the first video's details from the data list. It will return a list containing the extracted information (title, views, video link, date/time, and thumbnail link) for the first video."
   ]
  },
  {
   "cell_type": "code",
   "execution_count": 54,
   "id": "45cf227c-eef7-460a-a5eb-b7c437c153fc",
   "metadata": {},
   "outputs": [
    {
     "data": {
      "text/plain": [
       "['Ready to take on the challenge? | 90% Refund Challenge by GeeksforGeeks',\n",
       " '5.2K views',\n",
       " '/watch?v=B05KjM_OLTA',\n",
       " '1 day ago',\n",
       " 'https://i.ytimg.com/vi/B05KjM_OLTA/hqdefault.jpg']"
      ]
     },
     "execution_count": 54,
     "metadata": {},
     "output_type": "execute_result"
    }
   ],
   "source": [
    "data[0]"
   ]
  },
  {
   "cell_type": "markdown",
   "id": "c1e8042b-0a0a-4f68-bcaf-b584e98db3d2",
   "metadata": {},
   "source": [
    "This below line converts the data list into a ***pandas*** DataFrame with columns named ***title***, ***views***, ***video_link***, ***date_time***, and ***thumbnail_link***. Each list in data becomes a row in the DataFrame, providing a clean tabular structure for easy analysis, manipulation, or export. For example, you can inspect the data with ***df.head()*** or save it as a ***CSV*** using ***df.to_csv('data.csv', index=False)***."
   ]
  },
  {
   "cell_type": "code",
   "execution_count": 76,
   "id": "d9fd93c0-d2b0-40de-813c-075aa716c45f",
   "metadata": {},
   "outputs": [],
   "source": [
    "df = pd.DataFrame(data, columns = ['title', 'views', 'video_link', 'date_time', 'thumbnail_link'])"
   ]
  },
  {
   "cell_type": "code",
   "execution_count": 77,
   "id": "6bf8fe93-3b35-4e73-ba7c-86f0ae5481b5",
   "metadata": {},
   "outputs": [
    {
     "data": {
      "text/html": [
       "<div>\n",
       "<style scoped>\n",
       "    .dataframe tbody tr th:only-of-type {\n",
       "        vertical-align: middle;\n",
       "    }\n",
       "\n",
       "    .dataframe tbody tr th {\n",
       "        vertical-align: top;\n",
       "    }\n",
       "\n",
       "    .dataframe thead th {\n",
       "        text-align: right;\n",
       "    }\n",
       "</style>\n",
       "<table border=\"1\" class=\"dataframe\">\n",
       "  <thead>\n",
       "    <tr style=\"text-align: right;\">\n",
       "      <th></th>\n",
       "      <th>title</th>\n",
       "      <th>views</th>\n",
       "      <th>video_link</th>\n",
       "      <th>date_time</th>\n",
       "      <th>thumbnail_link</th>\n",
       "    </tr>\n",
       "  </thead>\n",
       "  <tbody>\n",
       "    <tr>\n",
       "      <th>0</th>\n",
       "      <td>Ready to take on the challenge? | 90% Refund C...</td>\n",
       "      <td>5.2K views</td>\n",
       "      <td>/watch?v=B05KjM_OLTA</td>\n",
       "      <td>1 day ago</td>\n",
       "      <td>https://i.ytimg.com/vi/B05KjM_OLTA/hqdefault.jpg</td>\n",
       "    </tr>\n",
       "    <tr>\n",
       "      <th>1</th>\n",
       "      <td>I went to the House of a Microsoft Software En...</td>\n",
       "      <td>3.5K views</td>\n",
       "      <td>/watch?v=nQ-dpHJPS2c</td>\n",
       "      <td>2 days ago</td>\n",
       "      <td>https://i.ytimg.com/vi/nQ-dpHJPS2c/hqdefault.jpg</td>\n",
       "    </tr>\n",
       "    <tr>\n",
       "      <th>2</th>\n",
       "      <td>The Only Cyber Security Roadmap you need for 2...</td>\n",
       "      <td>1.8K views</td>\n",
       "      <td>/watch?v=0CMNIpd-s_c</td>\n",
       "      <td>3 days ago</td>\n",
       "      <td>https://i.ytimg.com/vi/0CMNIpd-s_c/hqdefault.jpg</td>\n",
       "    </tr>\n",
       "    <tr>\n",
       "      <th>3</th>\n",
       "      <td>GeeksforGeeks is going to rock the world of Ed...</td>\n",
       "      <td>1.6K views</td>\n",
       "      <td>/watch?v=Na5zVw3g9So</td>\n",
       "      <td>5 days ago</td>\n",
       "      <td>https://i.ytimg.com/vi/Na5zVw3g9So/hqdefault.jpg</td>\n",
       "    </tr>\n",
       "    <tr>\n",
       "      <th>4</th>\n",
       "      <td>How to get a job in MAANG as a College Student...</td>\n",
       "      <td>4.2K views</td>\n",
       "      <td>/watch?v=dE-MlQnCT78</td>\n",
       "      <td>5 days ago</td>\n",
       "      <td>https://i.ytimg.com/vi/dE-MlQnCT78/hqdefault.jpg</td>\n",
       "    </tr>\n",
       "    <tr>\n",
       "      <th>...</th>\n",
       "      <td>...</td>\n",
       "      <td>...</td>\n",
       "      <td>...</td>\n",
       "      <td>...</td>\n",
       "      <td>...</td>\n",
       "    </tr>\n",
       "    <tr>\n",
       "      <th>1043</th>\n",
       "      <td>Recursive O(logy) function for pow(x,y) | Geek...</td>\n",
       "      <td>4.7K views</td>\n",
       "      <td>/watch?v=2a_Snu8qjko</td>\n",
       "      <td>5 years ago</td>\n",
       "      <td>None</td>\n",
       "    </tr>\n",
       "    <tr>\n",
       "      <th>1044</th>\n",
       "      <td>DSA Online Course | GeeksforGeeks</td>\n",
       "      <td>69K views</td>\n",
       "      <td>/watch?v=BnJWi0E3Mv0</td>\n",
       "      <td>5 years ago</td>\n",
       "      <td>None</td>\n",
       "    </tr>\n",
       "    <tr>\n",
       "      <th>1045</th>\n",
       "      <td>Lets Create Threads (JAVA) | GeeksforGeeks</td>\n",
       "      <td>13K views</td>\n",
       "      <td>/watch?v=kviGixevLNA</td>\n",
       "      <td>5 years ago</td>\n",
       "      <td>None</td>\n",
       "    </tr>\n",
       "    <tr>\n",
       "      <th>1046</th>\n",
       "      <td>Introduction to Multithreading  (JAVA) | Geeks...</td>\n",
       "      <td>48K views</td>\n",
       "      <td>/watch?v=J_7FtjWgoC4</td>\n",
       "      <td>5 years ago</td>\n",
       "      <td>None</td>\n",
       "    </tr>\n",
       "    <tr>\n",
       "      <th>1047</th>\n",
       "      <td>How to declare a pointer to a function? | Geek...</td>\n",
       "      <td>4.6K views</td>\n",
       "      <td>/watch?v=eEHzPJrhK7g</td>\n",
       "      <td>5 years ago</td>\n",
       "      <td>None</td>\n",
       "    </tr>\n",
       "  </tbody>\n",
       "</table>\n",
       "<p>1048 rows × 5 columns</p>\n",
       "</div>"
      ],
      "text/plain": [
       "                                                  title       views  \\\n",
       "0     Ready to take on the challenge? | 90% Refund C...  5.2K views   \n",
       "1     I went to the House of a Microsoft Software En...  3.5K views   \n",
       "2     The Only Cyber Security Roadmap you need for 2...  1.8K views   \n",
       "3     GeeksforGeeks is going to rock the world of Ed...  1.6K views   \n",
       "4     How to get a job in MAANG as a College Student...  4.2K views   \n",
       "...                                                 ...         ...   \n",
       "1043  Recursive O(logy) function for pow(x,y) | Geek...  4.7K views   \n",
       "1044                  DSA Online Course | GeeksforGeeks   69K views   \n",
       "1045         Lets Create Threads (JAVA) | GeeksforGeeks   13K views   \n",
       "1046  Introduction to Multithreading  (JAVA) | Geeks...   48K views   \n",
       "1047  How to declare a pointer to a function? | Geek...  4.6K views   \n",
       "\n",
       "                video_link    date_time  \\\n",
       "0     /watch?v=B05KjM_OLTA    1 day ago   \n",
       "1     /watch?v=nQ-dpHJPS2c   2 days ago   \n",
       "2     /watch?v=0CMNIpd-s_c   3 days ago   \n",
       "3     /watch?v=Na5zVw3g9So   5 days ago   \n",
       "4     /watch?v=dE-MlQnCT78   5 days ago   \n",
       "...                    ...          ...   \n",
       "1043  /watch?v=2a_Snu8qjko  5 years ago   \n",
       "1044  /watch?v=BnJWi0E3Mv0  5 years ago   \n",
       "1045  /watch?v=kviGixevLNA  5 years ago   \n",
       "1046  /watch?v=J_7FtjWgoC4  5 years ago   \n",
       "1047  /watch?v=eEHzPJrhK7g  5 years ago   \n",
       "\n",
       "                                        thumbnail_link  \n",
       "0     https://i.ytimg.com/vi/B05KjM_OLTA/hqdefault.jpg  \n",
       "1     https://i.ytimg.com/vi/nQ-dpHJPS2c/hqdefault.jpg  \n",
       "2     https://i.ytimg.com/vi/0CMNIpd-s_c/hqdefault.jpg  \n",
       "3     https://i.ytimg.com/vi/Na5zVw3g9So/hqdefault.jpg  \n",
       "4     https://i.ytimg.com/vi/dE-MlQnCT78/hqdefault.jpg  \n",
       "...                                                ...  \n",
       "1043                                              None  \n",
       "1044                                              None  \n",
       "1045                                              None  \n",
       "1046                                              None  \n",
       "1047                                              None  \n",
       "\n",
       "[1048 rows x 5 columns]"
      ]
     },
     "execution_count": 77,
     "metadata": {},
     "output_type": "execute_result"
    }
   ],
   "source": [
    "df"
   ]
  },
  {
   "cell_type": "code",
   "execution_count": 78,
   "id": "c3638b8e-7779-49a9-a0d8-980ec8b361da",
   "metadata": {},
   "outputs": [
    {
     "data": {
      "text/plain": [
       "title              0\n",
       "views              0\n",
       "video_link         0\n",
       "date_time          0\n",
       "thumbnail_link    40\n",
       "dtype: int64"
      ]
     },
     "execution_count": 78,
     "metadata": {},
     "output_type": "execute_result"
    }
   ],
   "source": [
    "df.isnull().sum()"
   ]
  },
  {
   "cell_type": "code",
   "execution_count": 79,
   "id": "3435831e-0116-40d5-ab9e-fc7a3b6ee435",
   "metadata": {},
   "outputs": [],
   "source": [
    "df.to_csv('data.csv', index=False)"
   ]
  },
  {
   "cell_type": "code",
   "execution_count": 80,
   "id": "c2ea7bc1-2bd2-4c43-9334-c62aa79fabc3",
   "metadata": {},
   "outputs": [
    {
     "data": {
      "text/html": [
       "<div>\n",
       "<style scoped>\n",
       "    .dataframe tbody tr th:only-of-type {\n",
       "        vertical-align: middle;\n",
       "    }\n",
       "\n",
       "    .dataframe tbody tr th {\n",
       "        vertical-align: top;\n",
       "    }\n",
       "\n",
       "    .dataframe thead th {\n",
       "        text-align: right;\n",
       "    }\n",
       "</style>\n",
       "<table border=\"1\" class=\"dataframe\">\n",
       "  <thead>\n",
       "    <tr style=\"text-align: right;\">\n",
       "      <th></th>\n",
       "      <th>title</th>\n",
       "      <th>views</th>\n",
       "      <th>video_link</th>\n",
       "      <th>date_time</th>\n",
       "      <th>thumbnail_link</th>\n",
       "    </tr>\n",
       "  </thead>\n",
       "  <tbody>\n",
       "    <tr>\n",
       "      <th>1043</th>\n",
       "      <td>Recursive O(logy) function for pow(x,y) | Geek...</td>\n",
       "      <td>4.7K views</td>\n",
       "      <td>/watch?v=2a_Snu8qjko</td>\n",
       "      <td>5 years ago</td>\n",
       "      <td>None</td>\n",
       "    </tr>\n",
       "    <tr>\n",
       "      <th>1044</th>\n",
       "      <td>DSA Online Course | GeeksforGeeks</td>\n",
       "      <td>69K views</td>\n",
       "      <td>/watch?v=BnJWi0E3Mv0</td>\n",
       "      <td>5 years ago</td>\n",
       "      <td>None</td>\n",
       "    </tr>\n",
       "    <tr>\n",
       "      <th>1045</th>\n",
       "      <td>Lets Create Threads (JAVA) | GeeksforGeeks</td>\n",
       "      <td>13K views</td>\n",
       "      <td>/watch?v=kviGixevLNA</td>\n",
       "      <td>5 years ago</td>\n",
       "      <td>None</td>\n",
       "    </tr>\n",
       "    <tr>\n",
       "      <th>1046</th>\n",
       "      <td>Introduction to Multithreading  (JAVA) | Geeks...</td>\n",
       "      <td>48K views</td>\n",
       "      <td>/watch?v=J_7FtjWgoC4</td>\n",
       "      <td>5 years ago</td>\n",
       "      <td>None</td>\n",
       "    </tr>\n",
       "    <tr>\n",
       "      <th>1047</th>\n",
       "      <td>How to declare a pointer to a function? | Geek...</td>\n",
       "      <td>4.6K views</td>\n",
       "      <td>/watch?v=eEHzPJrhK7g</td>\n",
       "      <td>5 years ago</td>\n",
       "      <td>None</td>\n",
       "    </tr>\n",
       "  </tbody>\n",
       "</table>\n",
       "</div>"
      ],
      "text/plain": [
       "                                                  title       views  \\\n",
       "1043  Recursive O(logy) function for pow(x,y) | Geek...  4.7K views   \n",
       "1044                  DSA Online Course | GeeksforGeeks   69K views   \n",
       "1045         Lets Create Threads (JAVA) | GeeksforGeeks   13K views   \n",
       "1046  Introduction to Multithreading  (JAVA) | Geeks...   48K views   \n",
       "1047  How to declare a pointer to a function? | Geek...  4.6K views   \n",
       "\n",
       "                video_link    date_time thumbnail_link  \n",
       "1043  /watch?v=2a_Snu8qjko  5 years ago           None  \n",
       "1044  /watch?v=BnJWi0E3Mv0  5 years ago           None  \n",
       "1045  /watch?v=kviGixevLNA  5 years ago           None  \n",
       "1046  /watch?v=J_7FtjWgoC4  5 years ago           None  \n",
       "1047  /watch?v=eEHzPJrhK7g  5 years ago           None  "
      ]
     },
     "execution_count": 80,
     "metadata": {},
     "output_type": "execute_result"
    }
   ],
   "source": [
    "df.tail()"
   ]
  }
 ],
 "metadata": {
  "kernelspec": {
   "display_name": "Python 3 (ipykernel)",
   "language": "python",
   "name": "python3"
  },
  "language_info": {
   "codemirror_mode": {
    "name": "ipython",
    "version": 3
   },
   "file_extension": ".py",
   "mimetype": "text/x-python",
   "name": "python",
   "nbconvert_exporter": "python",
   "pygments_lexer": "ipython3",
   "version": "3.8.8"
  }
 },
 "nbformat": 4,
 "nbformat_minor": 5
}
